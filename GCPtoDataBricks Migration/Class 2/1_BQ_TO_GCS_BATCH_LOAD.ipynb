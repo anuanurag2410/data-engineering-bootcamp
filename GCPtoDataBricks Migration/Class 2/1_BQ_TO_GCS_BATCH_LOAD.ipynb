{
 "cells": [
  {
   "cell_type": "markdown",
   "metadata": {
    "application/vnd.databricks.v1+cell": {
     "cellMetadata": {
      "byteLimit": 2048000,
      "rowLimit": 10000
     },
     "inputWidgets": {},
     "nuid": "8aa9e4c9-38e1-4469-930e-7a4601291bc4",
     "showTitle": false,
     "tableResultSettingsMap": {},
     "title": ""
    }
   },
   "source": [
    "## STEPS TO BE FOLLOWED \n",
    "\n",
    "- Notebook to Create Connection Between Databricks to MYSQL and BigQuery\n",
    "- Reads the conig_table rows for **active_flag=1 AND load_flag=1**\n",
    "- Export the Each **BigQuery Table to --> GCS Stagging Layer**\n",
    "- Update and Log the status of the Load in config_table"
   ]
  },
  {
   "cell_type": "code",
   "execution_count": 0,
   "metadata": {
    "application/vnd.databricks.v1+cell": {
     "cellMetadata": {
      "byteLimit": 2048000,
      "rowLimit": 10000
     },
     "inputWidgets": {},
     "nuid": "f84f6899-d2d0-49c2-8b2f-ff004c0742b4",
     "showTitle": true,
     "tableResultSettingsMap": {},
     "title": "Creating Widgets to make it Configurable"
    }
   },
   "outputs": [],
   "source": [
    "dbutils.widgets.text(\"mysql_host\",\"136.113.73.13\")\n",
    "mysql_host=dbutils.widgets.get(\"mysql_host\")\n",
    "\n",
    "dbutils.widgets.text(\"mysql_port\",\"3306\")\n",
    "mysql_port=dbutils.widgets.get(\"mysql_port\")\n",
    "\n",
    "dbutils.widgets.text(\"mysql_user\",\"root\")\n",
    "mysql_user=dbutils.widgets.get(\"mysql_user\")\n",
    "\n",
    "dbutils.widgets.text(\"mysql_db\",\"GCPMigrationMeta\")\n",
    "mysql_db=dbutils.widgets.get(\"mysql_db\")\n",
    "\n",
    "dbutils.widgets.text(\"mysql_password\",\"Admin@1234\")\n",
    "mysql_password=dbutils.widgets.get(\"mysql_password\")\n",
    "\n",
    "dbutils.widgets.text(\"bq_sa_key\",\"/Workspace/Users/anurag.srivastava@koantekorg.onmicrosoft.com/Migrationproject/datamigrationproject-475415-ffc1c7e9a773.json\")\n",
    "bq_sa_key=dbutils.widgets.get(\"bq_sa_key\")"
   ]
  },
  {
   "cell_type": "code",
   "execution_count": 0,
   "metadata": {
    "application/vnd.databricks.v1+cell": {
     "cellMetadata": {
      "byteLimit": 2048000,
      "rowLimit": 10000
     },
     "inputWidgets": {},
     "nuid": "a063ddac-3c4c-4492-85e1-07eb3f17be5d",
     "showTitle": true,
     "tableResultSettingsMap": {},
     "title": "Installing the MySQL Connector and Google Cloud Connector Library"
    }
   },
   "outputs": [],
   "source": [
    "%pip install mysql-connector-python google-cloud-bigquery\n"
   ]
  },
  {
   "cell_type": "code",
   "execution_count": 0,
   "metadata": {
    "application/vnd.databricks.v1+cell": {
     "cellMetadata": {
      "byteLimit": 2048000,
      "rowLimit": 10000
     },
     "inputWidgets": {},
     "nuid": "587eeda9-efab-49ec-af0f-f347cbe20df4",
     "showTitle": true,
     "tableResultSettingsMap": {},
     "title": "importing Library for Connection"
    }
   },
   "outputs": [],
   "source": [
    "import json,os,datetime as dt\n",
    "import mysql.connector as mc\n",
    "from google.cloud import bigquery\n",
    "from contextlib import contextmanager\n",
    "\n",
    "#Enclosing it in Dictiornary\n",
    "MYSQL={\n",
    "    'host':mysql_host.strip(),\n",
    "    'port':int(mysql_port),\n",
    "    'user':mysql_user.strip(),\n",
    "    'pwd':mysql_password,\n",
    "    'db':mysql_db\n",
    "}\n",
    "\n",
    "#Repalcing the dbfs:/ with /dbfs/`\n",
    "BQ_KEY=bq_sa_key.replace('dbfs:/','/dbfs/')"
   ]
  },
  {
   "cell_type": "code",
   "execution_count": 0,
   "metadata": {
    "application/vnd.databricks.v1+cell": {
     "cellMetadata": {
      "byteLimit": 2048000,
      "rowLimit": 10000
     },
     "inputWidgets": {},
     "nuid": "6cbc59d6-dd81-4dad-9a66-9e13e04c2d0e",
     "showTitle": true,
     "tableResultSettingsMap": {},
     "title": "Setting up MYSQL Connection"
    }
   },
   "outputs": [],
   "source": [
    "@contextmanager\n",
    "def mysql_conn():\n",
    "    conn=mc.connect(\n",
    "            host=MYSQL['host'],port=MYSQL['port'],\n",
    "            user=MYSQL['user'],password=MYSQL['pwd'],database=MYSQL['db']\n",
    "    )\n",
    "    try:\n",
    "        yield conn \n",
    "    except Exception as e:\n",
    "        print(f\"Failed to Connect to MYSQL \\nHere is the Error -: \\n{e}\")\n",
    "    finally:\n",
    "        conn.close()\n",
    "\n"
   ]
  },
  {
   "cell_type": "code",
   "execution_count": 0,
   "metadata": {
    "application/vnd.databricks.v1+cell": {
     "cellMetadata": {
      "byteLimit": 2048000,
      "rowLimit": 10000
     },
     "inputWidgets": {},
     "nuid": "909f6a02-23cb-4094-ab52-0ad159d499a8",
     "showTitle": true,
     "tableResultSettingsMap": {},
     "title": "Fetch the Eligible Table"
    }
   },
   "outputs": [],
   "source": [
    "def fetch_eligible_tables():\n",
    "    \"\"\"Get rows to process with needed columns.\"\"\"\n",
    "    with mysql_conn() as conn:\n",
    "        cur = conn.cursor(dictionary=True)\n",
    "        cur.execute(\"\"\"\n",
    "          SELECT table_name, source_project, source_dataset, gcs_path\n",
    "          FROM config_table\n",
    "          WHERE active_flag=1 AND load_flag=1\n",
    "          ORDER BY table_name\n",
    "        \"\"\")\n",
    "        rows = cur.fetchall()  # Get all matching rows as a list of dicts\n",
    "        cur.close()\n",
    "    return rows\n"
   ]
  },
  {
   "cell_type": "code",
   "execution_count": 0,
   "metadata": {
    "application/vnd.databricks.v1+cell": {
     "cellMetadata": {
      "byteLimit": 2048000,
      "rowLimit": 10000
     },
     "inputWidgets": {},
     "nuid": "199691d8-58f6-48de-98b1-35701c9a5c54",
     "showTitle": true,
     "tableResultSettingsMap": {},
     "title": "Update Config Status"
    }
   },
   "outputs": [],
   "source": [
    "def set_bq_to_gcs_status(table_name, status, err=None):\n",
    "    with mysql_conn() as conn:\n",
    "        cur = conn.cursor()\n",
    "        if status == \"IN_PROGRESS\":\n",
    "            # Mark as in progress and clear any previous error\n",
    "            cur.execute(\"\"\"\n",
    "              UPDATE config_table\n",
    "                 SET bq_to_gcs_status='IN_PROGRESS',\n",
    "                     last_run_ts=NOW(),\n",
    "                     error_message=NULL\n",
    "               WHERE table_name=%s\n",
    "            \"\"\", (table_name,))\n",
    "        elif status == \"COMPLETED\":\n",
    "            # Mark as completed and update last_success_ts\n",
    "            cur.execute(\"\"\"\n",
    "              UPDATE config_table\n",
    "                 SET bq_to_gcs_status='COMPLETED',\n",
    "                     last_success_ts=NOW()\n",
    "               WHERE table_name=%s\n",
    "            \"\"\", (table_name,))\n",
    "        else:  # FAILED\n",
    "            # Mark as failed and store the error message (up to 2000 chars)\n",
    "            cur.execute(\"\"\"\n",
    "              UPDATE config_table\n",
    "                 SET bq_to_gcs_status='FAILED',\n",
    "                     error_message=%s\n",
    "               WHERE table_name=%s\n",
    "            \"\"\", (str(err)[:2000] if err else \"FAILED\", table_name))\n",
    "        conn.commit()\n",
    "        cur.close()\n"
   ]
  },
  {
   "cell_type": "code",
   "execution_count": 0,
   "metadata": {
    "application/vnd.databricks.v1+cell": {
     "cellMetadata": {
      "byteLimit": 2048000,
      "rowLimit": 10000
     },
     "inputWidgets": {},
     "nuid": "df80bdfb-b63e-4f32-93c6-c0b039d80f67",
     "showTitle": true,
     "tableResultSettingsMap": {},
     "title": "BQ Client"
    }
   },
   "outputs": [],
   "source": [
    "def bq_client():\n",
    "    os.environ[\"GOOGLE_APPLICATION_CREDENTIALS\"] = BQ_KEY  # Set env var for auth\n",
    "    with open(BQ_KEY) as f:\n",
    "        proj = json.load(f).get(\"project_id\")  # Get project_id from key file\n",
    "    return bigquery.Client(project=proj)"
   ]
  },
  {
   "cell_type": "code",
   "execution_count": 0,
   "metadata": {
    "application/vnd.databricks.v1+cell": {
     "cellMetadata": {
      "byteLimit": 2048000,
      "rowLimit": 10000
     },
     "inputWidgets": {},
     "nuid": "7788375f-8d50-47c4-af74-405a6907926f",
     "showTitle": true,
     "tableResultSettingsMap": {},
     "title": "EXPORT the Table to GCS"
    }
   },
   "outputs": [],
   "source": [
    "def export_table_to_gcs(source_project,source_dataset,table_name,gcs_base):\n",
    "    \"\"\"\n",
    "    Exporting the BigQuery table GCS Bucket \n",
    "    Aurthor : Anurag Srivastava\n",
    "    \"\"\"\n",
    "    client=bq_client()\n",
    "    full=f\"{source_project}.{source_dataset}.{table_name}\"\n",
    "    ts=(dt.datetime.utcnow() + dt.timedelta(hours=5, minutes=30)).strftime(\"%Y%m%dT%H%M%SZ\")\n",
    "    dest_prefix=f\"{gcs_base}/dt={ts}/\"\n",
    "    dest_uri=f\"{dest_prefix}*.parquet\"\n",
    "\n",
    "    job_cfg=bigquery.job.ExtractJobConfig(\n",
    "        destination_format=bigquery.DestinationFormat.PARQUET\n",
    "    )\n",
    "\n",
    "    print(f\"Exporting the Data for {full} ---> {dest_uri}\")\n",
    "    job=client.extract_table(full,dest_uri,job_config=job_cfg)\n",
    "    job.result()\n",
    "    print(f\"Exported the Data for {full} ---> {dest_uri}\")\n",
    "    return dest_uri\n",
    "\n"
   ]
  },
  {
   "cell_type": "code",
   "execution_count": 0,
   "metadata": {
    "application/vnd.databricks.v1+cell": {
     "cellMetadata": {
      "byteLimit": 2048000,
      "rowLimit": 10000
     },
     "inputWidgets": {},
     "nuid": "32e07e1c-bb31-43b3-bab7-498029530882",
     "showTitle": true,
     "tableResultSettingsMap": {},
     "title": "Get the All tables need to be processed"
    }
   },
   "outputs": [],
   "source": [
    "rows=fetch_eligible_tables()\n",
    "\n",
    "if not rows: \n",
    "    print(\"No table to be loaded with active_flag=1 and load_flag=1\")\n",
    "\n",
    "\n",
    "else:\n",
    "    print(f\"-------Processing {len(rows)} table(s): {[r['table_name'] for r in rows]}\")\n",
    "\n",
    "\n",
    "    for r in rows:\n",
    "        t=r['table_name']\n",
    "\n",
    "        try: \n",
    "            set_bq_to_gcs_status(t,'IN_PROGRESS')\n",
    "            print(f\"--------\\nProcessing {t}\")\n",
    "            uri=export_table_to_gcs(\n",
    "                r['source_project'],\n",
    "                r['source_dataset'],t,r['gcs_path'])\n",
    "            \n",
    "            set_bq_to_gcs_status(t,'COMPLETED')\n",
    "            print(f\"😃🔥Completed {t}\")\n",
    "\n",
    "        except Exception as err:\n",
    "                set_bq_to_gcs_status(t,'FAILED',err=e)\n",
    "                print(f\"❌Failed {t} \\n{err}\")\n",
    "                \n",
    "\n"
   ]
  }
 ],
 "metadata": {
  "application/vnd.databricks.v1+notebook": {
   "computePreferences": null,
   "dashboards": [],
   "environmentMetadata": {
    "base_environment": "",
    "environment_version": "4"
   },
   "inputWidgetPreferences": null,
   "language": "python",
   "notebookMetadata": {
    "pythonIndentUnit": 4
   },
   "notebookName": "1_BQ_TO_GCS_BATCH_LOAD",
   "widgets": {
    "bq_sa_key": {
     "currentValue": "/Workspace/Users/anurag.srivastava@koantekorg.onmicrosoft.com/Migrationproject/datamigrationproject-475415-ffc1c7e9a773.json",
     "nuid": "16e2bcbb-adfc-40ce-9be4-5e5cd9860bbe",
     "typedWidgetInfo": {
      "autoCreated": false,
      "defaultValue": "/Workspace/Users/anurag.srivastava@koantekorg.onmicrosoft.com/Migrationproject/datamigrationproject-475415-ffc1c7e9a773.json",
      "label": null,
      "name": "bq_sa_key",
      "options": {
       "widgetDisplayType": "Text",
       "validationRegex": null
      },
      "parameterDataType": "String"
     },
     "widgetInfo": {
      "widgetType": "text",
      "defaultValue": "/Workspace/Users/anurag.srivastava@koantekorg.onmicrosoft.com/Migrationproject/datamigrationproject-475415-ffc1c7e9a773.json",
      "label": null,
      "name": "bq_sa_key",
      "options": {
       "widgetType": "text",
       "autoCreated": null,
       "validationRegex": null
      }
     }
    },
    "mysql_db": {
     "currentValue": "GCPMigrationMeta",
     "nuid": "a0196a59-3db1-4345-a9b3-2863118d89c5",
     "typedWidgetInfo": {
      "autoCreated": false,
      "defaultValue": "GCPMigrationMeta",
      "label": null,
      "name": "mysql_db",
      "options": {
       "widgetDisplayType": "Text",
       "validationRegex": null
      },
      "parameterDataType": "String"
     },
     "widgetInfo": {
      "widgetType": "text",
      "defaultValue": "GCPMigrationMeta",
      "label": null,
      "name": "mysql_db",
      "options": {
       "widgetType": "text",
       "autoCreated": null,
       "validationRegex": null
      }
     }
    },
    "mysql_host": {
     "currentValue": "136.113.73.13",
     "nuid": "01fd4598-aff1-4ef8-8226-5a853ca033d1",
     "typedWidgetInfo": {
      "autoCreated": false,
      "defaultValue": "136.113.73.13",
      "label": null,
      "name": "mysql_host",
      "options": {
       "widgetDisplayType": "Text",
       "validationRegex": null
      },
      "parameterDataType": "String"
     },
     "widgetInfo": {
      "widgetType": "text",
      "defaultValue": "136.113.73.13",
      "label": null,
      "name": "mysql_host",
      "options": {
       "widgetType": "text",
       "autoCreated": null,
       "validationRegex": null
      }
     }
    },
    "mysql_password": {
     "currentValue": "Admin@1234",
     "nuid": "c0993967-7b05-4485-94a3-42443e39c092",
     "typedWidgetInfo": {
      "autoCreated": false,
      "defaultValue": "Admin@1234",
      "label": null,
      "name": "mysql_password",
      "options": {
       "widgetDisplayType": "Text",
       "validationRegex": null
      },
      "parameterDataType": "String"
     },
     "widgetInfo": {
      "widgetType": "text",
      "defaultValue": "Admin@1234",
      "label": null,
      "name": "mysql_password",
      "options": {
       "widgetType": "text",
       "autoCreated": null,
       "validationRegex": null
      }
     }
    },
    "mysql_port": {
     "currentValue": "3306",
     "nuid": "f8b2b6d5-c970-48a9-abb4-c1f1d98ad4b3",
     "typedWidgetInfo": {
      "autoCreated": false,
      "defaultValue": "3306",
      "label": null,
      "name": "mysql_port",
      "options": {
       "widgetDisplayType": "Text",
       "validationRegex": null
      },
      "parameterDataType": "String"
     },
     "widgetInfo": {
      "widgetType": "text",
      "defaultValue": "3306",
      "label": null,
      "name": "mysql_port",
      "options": {
       "widgetType": "text",
       "autoCreated": null,
       "validationRegex": null
      }
     }
    },
    "mysql_user": {
     "currentValue": "root",
     "nuid": "cbe90771-39f0-4698-8e18-20dcb25b8067",
     "typedWidgetInfo": {
      "autoCreated": false,
      "defaultValue": "root",
      "label": null,
      "name": "mysql_user",
      "options": {
       "widgetDisplayType": "Text",
       "validationRegex": null
      },
      "parameterDataType": "String"
     },
     "widgetInfo": {
      "widgetType": "text",
      "defaultValue": "root",
      "label": null,
      "name": "mysql_user",
      "options": {
       "widgetType": "text",
       "autoCreated": null,
       "validationRegex": null
      }
     }
    }
   }
  },
  "language_info": {
   "name": "python"
  }
 },
 "nbformat": 4,
 "nbformat_minor": 0
}
