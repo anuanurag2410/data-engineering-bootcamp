{
 "cells": [
  {
   "cell_type": "markdown",
   "metadata": {
    "application/vnd.databricks.v1+cell": {
     "cellMetadata": {},
     "inputWidgets": {},
     "nuid": "8aa9e4c9-38e1-4469-930e-7a4601291bc4",
     "showTitle": false,
     "tableResultSettingsMap": {},
     "title": ""
    }
   },
   "source": [
    "## STEPS TO BE FOLLOWED \n",
    "\n",
    "- Notebook to Create Connection Between Databricks to MYSQL and BigQuery\n",
    "- Reads the conig_table rows for **active_flag=1 AND load_flag=1**\n",
    "- Export the Each **BigQuery Table to --> GCS Stagging Layer**\n",
    "- Update and Log the status of the Load in config_table"
   ]
  },
  {
   "cell_type": "code",
   "execution_count": 0,
   "metadata": {
    "application/vnd.databricks.v1+cell": {
     "cellMetadata": {
      "byteLimit": 2048000,
      "rowLimit": 10000
     },
     "inputWidgets": {},
     "nuid": "f84f6899-d2d0-49c2-8b2f-ff004c0742b4",
     "showTitle": true,
     "tableResultSettingsMap": {},
     "title": "Creating Widgets to make it Configurable"
    }
   },
   "outputs": [],
   "source": [
    "dbutils.widgets.text(\"mysql_host\",\"136.113.73.13\")\n",
    "mysql_host=dbutils.widgets.get(\"mysql_host\")\n",
    "\n",
    "dbutils.widgets.text(\"mysql_port\",\"3306\")\n",
    "mysql_port=dbutils.widgets.get(\"mysql_port\")\n",
    "\n",
    "dbutils.widgets.text(\"mysql_user\",\"root\")\n",
    "mysql_user=dbutils.widgets.get(\"mysql_user\")\n",
    "\n",
    "dbutils.widgets.text(\"mysql_password\",\"Admin@1234\")\n",
    "mysql_password=dbutils.widgets.get(\"mysql_password\")\n",
    "\n",
    "dbutils.widgets.text(\"bq_sa_key\",\"/Workspace/Users/anurag.srivastava@koantekorg.onmicrosoft.com/Migrationproject/datamigrationproject-475415-ffc1c7e9a773.json\")\n",
    "bq_sa_key=dbutils.widgets.get(\"bq_sa_key\")"
   ]
  },
  {
   "cell_type": "code",
   "execution_count": 0,
   "metadata": {
    "application/vnd.databricks.v1+cell": {
     "cellMetadata": {
      "byteLimit": 2048000,
      "rowLimit": 10000
     },
     "inputWidgets": {},
     "nuid": "a063ddac-3c4c-4492-85e1-07eb3f17be5d",
     "showTitle": true,
     "tableResultSettingsMap": {},
     "title": "Installing the MySQL Connector and Google Cloud Connector Library"
    }
   },
   "outputs": [],
   "source": [
    "%pip install mysql-connector-python google-cloud-bigquery\n"
   ]
  },
  {
   "cell_type": "code",
   "execution_count": 0,
   "metadata": {
    "application/vnd.databricks.v1+cell": {
     "cellMetadata": {
      "byteLimit": 2048000,
      "rowLimit": 10000
     },
     "inputWidgets": {},
     "nuid": "587eeda9-efab-49ec-af0f-f347cbe20df4",
     "showTitle": true,
     "tableResultSettingsMap": {},
     "title": "importing Library for Connection"
    }
   },
   "outputs": [],
   "source": [
    "import json,os,datetime as dt\n",
    "import mysql.connector as mc\n",
    "from google.cloud import bigquery\n",
    "from contextlib import contextmanager\n",
    "\n",
    "#Enclosing it in Dictiornary\n",
    "MYSQL={\n",
    "    'host':mysql_host.strip(),\n",
    "    'port':int(mysql_port),\n",
    "    'user':mysql_user.strip(),\n",
    "    'pwd':mysql_password\n",
    "}\n",
    "\n",
    "#Repalcing the dbfs:/ with /dbfs/`\n",
    "BQ_KEY=bq_sa_key.replace('dbfs:/','/dbfs/')"
   ]
  },
  {
   "cell_type": "code",
   "execution_count": 0,
   "metadata": {
    "application/vnd.databricks.v1+cell": {
     "cellMetadata": {
      "byteLimit": 2048000,
      "rowLimit": 10000
     },
     "inputWidgets": {},
     "nuid": "6cbc59d6-dd81-4dad-9a66-9e13e04c2d0e",
     "showTitle": true,
     "tableResultSettingsMap": {},
     "title": "Setting up MYSQL Connection"
    }
   },
   "outputs": [],
   "source": [
    "@contextmanager\n",
    "def mysql_conn():\n",
    "    conn=mc.connect(\n",
    "            host=MYSQL['host'],port=MYSQL['port'],\n",
    "            user=MYSQL['user'],password=MYSQL['pwd']\n",
    "    )\n",
    "    try:\n",
    "        yield conn \n",
    "    except Exception as e:\n",
    "        print(f\"Failed to Connect to MYSQL \\nHere is the Error -: \\n{e}\")\n",
    "    finally:\n",
    "        conn.close()\n",
    "\n"
   ]
  },
  {
   "cell_type": "code",
   "execution_count": 0,
   "metadata": {
    "application/vnd.databricks.v1+cell": {
     "cellMetadata": {
      "byteLimit": 2048000,
      "rowLimit": 10000
     },
     "inputWidgets": {},
     "nuid": "909f6a02-23cb-4094-ab52-0ad159d499a8",
     "showTitle": true,
     "tableResultSettingsMap": {},
     "title": "Fetch the Eligible Table"
    }
   },
   "outputs": [],
   "source": [
    "def fetch_eligible_tables():\n",
    "    with mysql_conn() as conn:\n",
    "        cur=conn.cursor()\n",
    "        cur.execute(\"\"\"SELECT * FROM \n",
    "                    GCPMigrationMeta.config_table \n",
    "                    where active_flag=1 and load_flag=1\"\"\")\n",
    "        rows= cur.fetchall()\n",
    "        cur.close()\n",
    "    return rows\n"
   ]
  },
  {
   "cell_type": "code",
   "execution_count": 0,
   "metadata": {
    "application/vnd.databricks.v1+cell": {
     "cellMetadata": {
      "byteLimit": 2048000,
      "rowLimit": 10000
     },
     "inputWidgets": {},
     "nuid": "199691d8-58f6-48de-98b1-35701c9a5c54",
     "showTitle": true,
     "tableResultSettingsMap": {},
     "title": "Update Config Status"
    }
   },
   "outputs": [],
   "source": [
    "def set_bq_to_gcs_status(table_name,status,error=None):\n",
    "    with mysql_conn() as conn:\n",
    "        cur=conn.cursor()\n",
    "\n",
    "        if status=='IN_PROGRESS':\n",
    "            cur.execute(\"\"\"\n",
    "                        UPDATE GCPMigrationMeta.config_table \n",
    "                        SET bq_to_gcs_status='IN_PROGRESS',\n",
    "                        last_run_ts=NOW(),\n",
    "                        error_message=NULL\n",
    "                        WHERE table_name=%s\n",
    "                        \"\"\",(table_name))\n",
    "\n",
    "        elif status=='COMPLETED':\n",
    "            cur.execute(\"\"\"\n",
    "                        UPDATE GCPMigrationMeta.config_table \n",
    "                        SET bq_to_gcs_status='COMPLETED',\n",
    "                        last_run_ts=NOW(),\n",
    "                        error_message=NULL\n",
    "                        WHERE table_name=%s\n",
    "                        \"\"\",(table_name))\n",
    "\n",
    "\n",
    "        else:    \n",
    "            cur.execute(\"\"\"\n",
    "                        UPDATE GCPMigrationMeta.config_table \n",
    "                        SET bq_to_gcs_status='FAILED',\n",
    "                        error_message=%s\n",
    "                        WHERE table_name=%s\n",
    "                        \"\"\",(str(err)[:2000]if err else \"FAILED\" ,table_name))\n",
    "        conn.commit()\n",
    "        cur.close()"
   ]
  },
  {
   "cell_type": "code",
   "execution_count": 0,
   "metadata": {
    "application/vnd.databricks.v1+cell": {
     "cellMetadata": {
      "byteLimit": 2048000,
      "rowLimit": 10000
     },
     "inputWidgets": {},
     "nuid": "df80bdfb-b63e-4f32-93c6-c0b039d80f67",
     "showTitle": true,
     "tableResultSettingsMap": {},
     "title": "BQ Client"
    }
   },
   "outputs": [],
   "source": [
    "def bq_client():\n",
    "    os.environ['GOOLGE_APPLICATION_CREDENTIALS']=BQ_KEY\n",
    "    with open(BQ_KEY) as f: \n",
    "        proj=json.load(f).get(\"project_id\")\n",
    "    return bigquery.Client(project=proj)    "
   ]
  },
  {
   "cell_type": "code",
   "execution_count": 0,
   "metadata": {
    "application/vnd.databricks.v1+cell": {
     "cellMetadata": {},
     "inputWidgets": {},
     "nuid": "7788375f-8d50-47c4-af74-405a6907926f",
     "showTitle": true,
     "tableResultSettingsMap": {},
     "title": "EXPORT the Table to GCS"
    }
   },
   "outputs": [],
   "source": [
    "def export_table_to_gcs(source_project,source_dataset,table_name,gcs_base):\n",
    "    \"\"\"\n",
    "    Exporting the BigQuery table GCS Bucket \n",
    "    Aurthor : Anurag Srivastava\n",
    "    \"\"\""
   ]
  }
 ],
 "metadata": {
  "application/vnd.databricks.v1+notebook": {
   "computePreferences": null,
   "dashboards": [],
   "environmentMetadata": {
    "base_environment": "",
    "environment_version": "4"
   },
   "inputWidgetPreferences": null,
   "language": "python",
   "notebookMetadata": {
    "pythonIndentUnit": 4
   },
   "notebookName": "1_BQ_TO_GCS_BATCH_LOAD",
   "widgets": {
    "bq_sa_key": {
     "currentValue": "/Workspace/Users/anurag.srivastava@koantekorg.onmicrosoft.com/Migrationproject/datamigrationproject-475415-ffc1c7e9a773.json",
     "nuid": "16e2bcbb-adfc-40ce-9be4-5e5cd9860bbe",
     "typedWidgetInfo": {
      "autoCreated": false,
      "defaultValue": "/Workspace/Users/anurag.srivastava@koantekorg.onmicrosoft.com/Migrationproject/datamigrationproject-475415-ffc1c7e9a773.json",
      "label": null,
      "name": "bq_sa_key",
      "options": {
       "widgetDisplayType": "Text",
       "validationRegex": null
      },
      "parameterDataType": "String"
     },
     "widgetInfo": {
      "widgetType": "text",
      "defaultValue": "/Workspace/Users/anurag.srivastava@koantekorg.onmicrosoft.com/Migrationproject/datamigrationproject-475415-ffc1c7e9a773.json",
      "label": null,
      "name": "bq_sa_key",
      "options": {
       "widgetType": "text",
       "autoCreated": null,
       "validationRegex": null
      }
     }
    },
    "mysql_host": {
     "currentValue": "136.113.73.13",
     "nuid": "01fd4598-aff1-4ef8-8226-5a853ca033d1",
     "typedWidgetInfo": {
      "autoCreated": false,
      "defaultValue": "136.113.73.13",
      "label": null,
      "name": "mysql_host",
      "options": {
       "widgetDisplayType": "Text",
       "validationRegex": null
      },
      "parameterDataType": "String"
     },
     "widgetInfo": {
      "widgetType": "text",
      "defaultValue": "136.113.73.13",
      "label": null,
      "name": "mysql_host",
      "options": {
       "widgetType": "text",
       "autoCreated": null,
       "validationRegex": null
      }
     }
    },
    "mysql_password": {
     "currentValue": "Admin@1234",
     "nuid": "c0993967-7b05-4485-94a3-42443e39c092",
     "typedWidgetInfo": {
      "autoCreated": false,
      "defaultValue": "Admin@1234",
      "label": null,
      "name": "mysql_password",
      "options": {
       "widgetDisplayType": "Text",
       "validationRegex": null
      },
      "parameterDataType": "String"
     },
     "widgetInfo": {
      "widgetType": "text",
      "defaultValue": "Admin@1234",
      "label": null,
      "name": "mysql_password",
      "options": {
       "widgetType": "text",
       "autoCreated": null,
       "validationRegex": null
      }
     }
    },
    "mysql_port": {
     "currentValue": "3306",
     "nuid": "f8b2b6d5-c970-48a9-abb4-c1f1d98ad4b3",
     "typedWidgetInfo": {
      "autoCreated": false,
      "defaultValue": "3306",
      "label": null,
      "name": "mysql_port",
      "options": {
       "widgetDisplayType": "Text",
       "validationRegex": null
      },
      "parameterDataType": "String"
     },
     "widgetInfo": {
      "widgetType": "text",
      "defaultValue": "3306",
      "label": null,
      "name": "mysql_port",
      "options": {
       "widgetType": "text",
       "autoCreated": null,
       "validationRegex": null
      }
     }
    },
    "mysql_user": {
     "currentValue": "root",
     "nuid": "cbe90771-39f0-4698-8e18-20dcb25b8067",
     "typedWidgetInfo": {
      "autoCreated": false,
      "defaultValue": "root",
      "label": null,
      "name": "mysql_user",
      "options": {
       "widgetDisplayType": "Text",
       "validationRegex": null
      },
      "parameterDataType": "String"
     },
     "widgetInfo": {
      "widgetType": "text",
      "defaultValue": "root",
      "label": null,
      "name": "mysql_user",
      "options": {
       "widgetType": "text",
       "autoCreated": null,
       "validationRegex": null
      }
     }
    }
   }
  },
  "language_info": {
   "name": "python"
  }
 },
 "nbformat": 4,
 "nbformat_minor": 0
}
