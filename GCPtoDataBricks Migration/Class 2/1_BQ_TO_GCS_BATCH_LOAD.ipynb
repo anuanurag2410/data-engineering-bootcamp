{
 "cells": [
  {
   "cell_type": "markdown",
   "metadata": {
    "application/vnd.databricks.v1+cell": {
     "cellMetadata": {},
     "inputWidgets": {},
     "nuid": "8aa9e4c9-38e1-4469-930e-7a4601291bc4",
     "showTitle": false,
     "tableResultSettingsMap": {},
     "title": ""
    }
   },
   "source": [
    "## STEPS TO BE FOLLOWED \n",
    "\n",
    "- Notebook to Create Connection Between Databricks to MYSQL and BigQuery\n",
    "- Reads the conig_table rows for active_flag=1 AND load_flag=1\n",
    "- Export the Each BigQuery Table to --> GCS Stagging Layer\n",
    "- Update and Log the status of the Load in config_table"
   ]
  },
  {
   "cell_type": "code",
   "execution_count": 0,
   "metadata": {
    "application/vnd.databricks.v1+cell": {
     "cellMetadata": {},
     "inputWidgets": {},
     "nuid": "f84f6899-d2d0-49c2-8b2f-ff004c0742b4",
     "showTitle": false,
     "tableResultSettingsMap": {},
     "title": ""
    }
   },
   "outputs": [],
   "source": []
  }
 ],
 "metadata": {
  "application/vnd.databricks.v1+notebook": {
   "computePreferences": null,
   "dashboards": [],
   "environmentMetadata": {
    "base_environment": "",
    "environment_version": "4"
   },
   "inputWidgetPreferences": null,
   "language": "python",
   "notebookMetadata": {
    "pythonIndentUnit": 4
   },
   "notebookName": "1_BQ_TO_GCS_BATCH_LOAD",
   "widgets": {}
  },
  "language_info": {
   "name": "python"
  }
 },
 "nbformat": 4,
 "nbformat_minor": 0
}
