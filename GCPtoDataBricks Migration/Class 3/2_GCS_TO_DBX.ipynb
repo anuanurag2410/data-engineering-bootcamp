{
 "cells": [
  {
   "cell_type": "markdown",
   "metadata": {
    "application/vnd.databricks.v1+cell": {
     "cellMetadata": {},
     "inputWidgets": {},
     "nuid": "2853a2a9-8f5d-44b5-a813-99b630bbb50f",
     "showTitle": false,
     "tableResultSettingsMap": {},
     "title": ""
    }
   },
   "source": [
    "# STEPS TO FOLLOW \n",
    "\n",
    "- Pick the Active Elibile Tables from config Table where active_flag=1 and load_flag=1\n",
    "- And bq_to_gcs_status='COMPLETED'\n",
    "- Reads the Latest PARQUET from GCS (gcs_path/dt=/*.parquet)--> uses the Latest dt Folder\n",
    "- Writes to the Delta bronze path\n",
    "- Create the Table From bronze path top bronze Dataset\n",
    "- Update the config table"
   ]
  },
  {
   "cell_type": "code",
   "execution_count": 0,
   "metadata": {
    "application/vnd.databricks.v1+cell": {
     "cellMetadata": {
      "byteLimit": 2048000,
      "rowLimit": 10000
     },
     "inputWidgets": {},
     "nuid": "fed942ac-6819-43a7-afaa-2791ca68c475",
     "showTitle": true,
     "tableResultSettingsMap": {},
     "title": "Create Widgets for Parametrization"
    }
   },
   "outputs": [],
   "source": [
    "dbutils.widgets.text(\"mysql_host\",\"136.113.73.13\")\n",
    "mysql_host=dbutils.widgets.get(\"mysql_host\")\n",
    "\n",
    "dbutils.widgets.text(\"mysql_port\",\"3306\")\n",
    "mysql_port=dbutils.widgets.get(\"mysql_port\")\n",
    "\n",
    "dbutils.widgets.text(\"mysql_user\",\"root\")\n",
    "mysql_user=dbutils.widgets.get(\"mysql_user\")\n",
    "\n",
    "dbutils.widgets.text(\"mysql_db\",\"GCPMigrationMeta\")\n",
    "mysql_db=dbutils.widgets.get(\"mysql_db\")\n",
    "\n",
    "dbutils.widgets.text(\"mysql_password\",\"Admin@1234\")\n",
    "mysql_password=dbutils.widgets.get(\"mysql_password\")\n",
    "\n",
    "dbutils.widgets.text(\"bq_sa_key\",\"/Workspace/Users/anurag.srivastava@koantekorg.onmicrosoft.com/Migrationproject/datamigrationproject-475415-ffc1c7e9a773.json\")\n",
    "GOOGLE_APPLICATION_CREDENTIALS=dbutils.widgets.get(\"bq_sa_key\")\n",
    "\n",
    "dbutils.widgets.text(\"hive_db\",\"bronze\")\n",
    "hive_db=dbutils.widgets.get(\"hive_db\")"
   ]
  },
  {
   "cell_type": "code",
   "execution_count": 0,
   "metadata": {
    "application/vnd.databricks.v1+cell": {
     "cellMetadata": {
      "byteLimit": 2048000,
      "rowLimit": 10000
     },
     "inputWidgets": {},
     "nuid": "722e08f6-a0b8-4706-94ce-ed8dbbe10d19",
     "showTitle": false,
     "tableResultSettingsMap": {},
     "title": ""
    }
   },
   "outputs": [],
   "source": [
    "%pip install -q mysql-connector-python google-cloud-bigquery google-cloud-storage"
   ]
  },
  {
   "cell_type": "code",
   "execution_count": 0,
   "metadata": {
    "application/vnd.databricks.v1+cell": {
     "cellMetadata": {
      "byteLimit": 2048000,
      "rowLimit": 10000
     },
     "inputWidgets": {},
     "nuid": "cdea1f6f-c741-4565-98a0-f045672dfe6a",
     "showTitle": true,
     "tableResultSettingsMap": {},
     "title": "importing Library for Connection"
    }
   },
   "outputs": [],
   "source": [
    "import os, re, shutil, json\n",
    "import mysql.connector as mc\n",
    "from contextlib import contextmanager\n",
    "from urllib.parse import urlparse\n",
    "from google.cloud import storage\n",
    "from pyspark.sql.functions import col, to_timestamp, to_date\n",
    "from pyspark.sql.types import TimestampType\n",
    "\n",
    "#Enclosing it in Dictiornary\n",
    "MYSQL={\n",
    "    'host':mysql_host.strip(),\n",
    "    'port':int(mysql_port),\n",
    "    'user':mysql_user.strip(),\n",
    "    'pwd':mysql_password,\n",
    "    'db':mysql_db\n",
    "}\n",
    "\n",
    "#Repalcing the dbfs:/ with /dbfs/`\n",
    "BQ_KEY=GOOGLE_APPLICATION_CREDENTIALS.replace('dbfs:/','/dbfs/')\n",
    "os.environ[\"GOOGLE_APPLICATION_CREDENTIALS\"] = BQ_KEY  "
   ]
  },
  {
   "cell_type": "code",
   "execution_count": 0,
   "metadata": {
    "application/vnd.databricks.v1+cell": {
     "cellMetadata": {},
     "inputWidgets": {},
     "nuid": "be403fc2-09c6-4718-aced-ae407b3be15e",
     "showTitle": true,
     "tableResultSettingsMap": {},
     "title": "Setting up MYSQL Connection"
    }
   },
   "outputs": [],
   "source": [
    "@contextmanager\n",
    "def mysql_conn():\n",
    "    conn=mc.connect(\n",
    "            host=MYSQL['host'],port=MYSQL['port'],\n",
    "            user=MYSQL['user'],password=MYSQL['pwd'],database=MYSQL['db']\n",
    "    )\n",
    "    try:\n",
    "        yield conn \n",
    "    except Exception as e:\n",
    "        print(f\"Failed to Connect to MYSQL \\nHere is the Error -: \\n{e}\")\n",
    "    finally:\n",
    "        conn.close()\n",
    "\n"
   ]
  },
  {
   "cell_type": "code",
   "execution_count": 0,
   "metadata": {
    "application/vnd.databricks.v1+cell": {
     "cellMetadata": {},
     "inputWidgets": {},
     "nuid": "654a05f6-ad20-4fd4-ad2d-cb54f071a942",
     "showTitle": true,
     "tableResultSettingsMap": {},
     "title": "Fetch the Eligible Table"
    }
   },
   "outputs": [],
   "source": [
    "def fetch_eligible_tables():\n",
    "    \"\"\"Get rows to process with needed columns.\"\"\"\n",
    "    with mysql_conn() as conn:\n",
    "        cur = conn.cursor(dictionary=True)\n",
    "        cur.execute(\"\"\"\n",
    "          SELECT table_name, source_project, source_dataset, gcs_path\n",
    "          FROM config_table\n",
    "          WHERE active_flag=1 AND load_flag=1\n",
    "          ORDER BY table_name\n",
    "        \"\"\")\n",
    "        rows = cur.fetchall()  # Get all matching rows as a list of dicts\n",
    "        cur.close()\n",
    "    return rows\n"
   ]
  },
  {
   "cell_type": "code",
   "execution_count": 0,
   "metadata": {
    "application/vnd.databricks.v1+cell": {
     "cellMetadata": {
      "byteLimit": 2048000,
      "rowLimit": 10000
     },
     "inputWidgets": {},
     "nuid": "fb0d05f9-d435-4010-9c59-fda2ae7af548",
     "showTitle": true,
     "tableResultSettingsMap": {},
     "title": "SET BRONZE Status"
    },
    "jupyter": {
     "outputs_hidden": true
    }
   },
   "outputs": [],
   "source": [
    "def set_bronze_status(table_name,status,err=None):\n",
    "    \n",
    "    with mysql_conn() as conn:\n",
    "        cur = conn.cursor()\n",
    "        if status == \"IN_PROGRESS\":\n",
    "            # Mark as in progress and clear any previous error\n",
    "            cur.execute(\"\"\"UPDATE GCPMigrationMeta.config_table \n",
    "                        SET gcs_to_bronze_status=\"IN_PROGRESS\",last_run_ts=NOW(),error_message=NULL\n",
    "                        where table_name=%s\"\"\",(table_name))            \n",
    "\n",
    "        elif status == \"COMPLETED\":\n",
    "            # Mark as in progress and clear any previous error\n",
    "            cur.execute(\"\"\"UPDATE GCPMigrationMeta.config_table \n",
    "                        SET gcs_to_bronze_status=\"COMPLETED\",last_run_ts=NOW(),error_message=NULL\n",
    "                        where table_name=%s\"\"\",(table_name))   \n",
    "        \n",
    "        else:  # FAILED\n",
    "            # Mark as failed and store the error message (up to 2000 chars)\n",
    "            cur.execute(\"\"\"\n",
    "              UPDATE config_table\n",
    "                 SET bq_to_gcs_status='FAILED',\n",
    "                     error_message=%s\n",
    "               WHERE table_name=%s\n",
    "            \"\"\", (str(err)[:2000] if err else \"FAILED\", table_name))\n",
    "        conn.commit()\n",
    "        cur.close()\n"
   ]
  },
  {
   "cell_type": "code",
   "execution_count": 0,
   "metadata": {
    "application/vnd.databricks.v1+cell": {
     "cellMetadata": {},
     "inputWidgets": {},
     "nuid": "2ca1bc60-7927-4023-9443-c59692a8b268",
     "showTitle": false,
     "tableResultSettingsMap": {},
     "title": ""
    }
   },
   "outputs": [],
   "source": [
    "\n"
   ]
  }
 ],
 "metadata": {
  "application/vnd.databricks.v1+notebook": {
   "computePreferences": null,
   "dashboards": [],
   "environmentMetadata": {
    "base_environment": "",
    "environment_version": "4"
   },
   "inputWidgetPreferences": null,
   "language": "python",
   "notebookMetadata": {
    "pythonIndentUnit": 4
   },
   "notebookName": "2_GCS_TO_DBX",
   "widgets": {
    "bq_sa_key": {
     "currentValue": "/Workspace/Users/anurag.srivastava@koantekorg.onmicrosoft.com/Migrationproject/datamigrationproject-475415-ffc1c7e9a773.json",
     "nuid": "c10c3fea-ecb9-404e-b9e3-c453170e1b65",
     "typedWidgetInfo": {
      "autoCreated": false,
      "defaultValue": "/Workspace/Users/anurag.srivastava@koantekorg.onmicrosoft.com/Migrationproject/datamigrationproject-475415-ffc1c7e9a773.json",
      "label": null,
      "name": "bq_sa_key",
      "options": {
       "widgetDisplayType": "Text",
       "validationRegex": null
      },
      "parameterDataType": "String"
     },
     "widgetInfo": {
      "widgetType": "text",
      "defaultValue": "/Workspace/Users/anurag.srivastava@koantekorg.onmicrosoft.com/Migrationproject/datamigrationproject-475415-ffc1c7e9a773.json",
      "label": null,
      "name": "bq_sa_key",
      "options": {
       "widgetType": "text",
       "autoCreated": null,
       "validationRegex": null
      }
     }
    },
    "hive_db": {
     "currentValue": "bronze",
     "nuid": "26373d45-2f78-481b-b085-781747f3f3b8",
     "typedWidgetInfo": {
      "autoCreated": false,
      "defaultValue": "bronze",
      "label": null,
      "name": "hive_db",
      "options": {
       "widgetDisplayType": "Text",
       "validationRegex": null
      },
      "parameterDataType": "String"
     },
     "widgetInfo": {
      "widgetType": "text",
      "defaultValue": "bronze",
      "label": null,
      "name": "hive_db",
      "options": {
       "widgetType": "text",
       "autoCreated": null,
       "validationRegex": null
      }
     }
    },
    "mysql_db": {
     "currentValue": "GCPMigrationMeta",
     "nuid": "2e062977-485f-4708-a0e8-a6e98a234c7f",
     "typedWidgetInfo": {
      "autoCreated": false,
      "defaultValue": "GCPMigrationMeta",
      "label": null,
      "name": "mysql_db",
      "options": {
       "widgetDisplayType": "Text",
       "validationRegex": null
      },
      "parameterDataType": "String"
     },
     "widgetInfo": {
      "widgetType": "text",
      "defaultValue": "GCPMigrationMeta",
      "label": null,
      "name": "mysql_db",
      "options": {
       "widgetType": "text",
       "autoCreated": null,
       "validationRegex": null
      }
     }
    },
    "mysql_host": {
     "currentValue": "136.113.73.13",
     "nuid": "47cec4e5-ca85-460a-8340-6d0ce6c4a254",
     "typedWidgetInfo": {
      "autoCreated": false,
      "defaultValue": "136.113.73.13",
      "label": null,
      "name": "mysql_host",
      "options": {
       "widgetDisplayType": "Text",
       "validationRegex": null
      },
      "parameterDataType": "String"
     },
     "widgetInfo": {
      "widgetType": "text",
      "defaultValue": "136.113.73.13",
      "label": null,
      "name": "mysql_host",
      "options": {
       "widgetType": "text",
       "autoCreated": null,
       "validationRegex": null
      }
     }
    },
    "mysql_password": {
     "currentValue": "Admin@1234",
     "nuid": "1fcde268-10b0-4345-a2c7-543785e9e4ea",
     "typedWidgetInfo": {
      "autoCreated": false,
      "defaultValue": "Admin@1234",
      "label": null,
      "name": "mysql_password",
      "options": {
       "widgetDisplayType": "Text",
       "validationRegex": null
      },
      "parameterDataType": "String"
     },
     "widgetInfo": {
      "widgetType": "text",
      "defaultValue": "Admin@1234",
      "label": null,
      "name": "mysql_password",
      "options": {
       "widgetType": "text",
       "autoCreated": null,
       "validationRegex": null
      }
     }
    },
    "mysql_port": {
     "currentValue": "3306",
     "nuid": "9d3fe00c-03d8-497c-8966-837d7f8a9a98",
     "typedWidgetInfo": {
      "autoCreated": false,
      "defaultValue": "3306",
      "label": null,
      "name": "mysql_port",
      "options": {
       "widgetDisplayType": "Text",
       "validationRegex": null
      },
      "parameterDataType": "String"
     },
     "widgetInfo": {
      "widgetType": "text",
      "defaultValue": "3306",
      "label": null,
      "name": "mysql_port",
      "options": {
       "widgetType": "text",
       "autoCreated": null,
       "validationRegex": null
      }
     }
    },
    "mysql_user": {
     "currentValue": "root",
     "nuid": "6781e294-bf71-44e1-b28f-92da8e112d8c",
     "typedWidgetInfo": {
      "autoCreated": false,
      "defaultValue": "root",
      "label": null,
      "name": "mysql_user",
      "options": {
       "widgetDisplayType": "Text",
       "validationRegex": null
      },
      "parameterDataType": "String"
     },
     "widgetInfo": {
      "widgetType": "text",
      "defaultValue": "root",
      "label": null,
      "name": "mysql_user",
      "options": {
       "widgetType": "text",
       "autoCreated": null,
       "validationRegex": null
      }
     }
    }
   }
  },
  "language_info": {
   "name": "python"
  }
 },
 "nbformat": 4,
 "nbformat_minor": 0
}
