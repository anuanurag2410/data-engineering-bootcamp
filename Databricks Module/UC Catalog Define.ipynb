{
 "cells": [
  {
   "cell_type": "code",
   "execution_count": 0,
   "metadata": {
    "application/vnd.databricks.v1+cell": {
     "cellMetadata": {},
     "inputWidgets": {},
     "nuid": "d0087cd9-ce29-45d5-8efb-1e8b51f09e73",
     "showTitle": false,
     "tableResultSettingsMap": {},
     "title": ""
    }
   },
   "outputs": [],
   "source": [
    "dbutils.widgets.text(\"source_path\", \"\", \"source_path\")\n",
    "source_path = dbutils.widgets.get(\"source_path\")\n",
    "\n",
    "dbutils.widgets.text(\"target_table\", \"\", \"target_table\")\n",
    "target_table = dbutils.widgets.get(\"target_table\")"
   ]
  },
  {
   "cell_type": "code",
   "execution_count": 0,
   "metadata": {
    "application/vnd.databricks.v1+cell": {
     "cellMetadata": {
      "byteLimit": 2048000,
      "implicitDf": true,
      "rowLimit": 10000
     },
     "inputWidgets": {},
     "nuid": "2e92fc6f-65b8-46a8-a7cf-8b0466a465b9",
     "showTitle": true,
     "tableResultSettingsMap": {},
     "title": "Creating the Catalog and Volumes"
    }
   },
   "outputs": [],
   "source": [
    "%sql\n",
    "CREATE CATALOG IF NOT EXISTS datax;\n",
    "USE CATALOG datax;\n",
    "\n",
    "CREATE SCHEMA IF NOT EXISTS workflows;\n",
    "USE SCHEMA workflows;\n",
    "\n",
    "CREATE VOLUME IF NOT EXISTS raw_vol;\n"
   ]
  },
  {
   "cell_type": "code",
   "execution_count": 0,
   "metadata": {
    "application/vnd.databricks.v1+cell": {
     "cellMetadata": {
      "byteLimit": 2048000,
      "rowLimit": 10000
     },
     "inputWidgets": {},
     "nuid": "53478f10-964c-41db-b765-40bbe14ad069",
     "showTitle": true,
     "tableResultSettingsMap": {},
     "title": "Define the Parametrs"
    }
   },
   "outputs": [],
   "source": [
    "catalog = \"datax\"\n",
    "schema=\"workflows\"\n",
    "RAW_BASE= f\"/Volumes/{catalog}/{schema}/raw_vol\"\n",
    "print(f\"RAW BASE IS DEFINED -: {RAW_BASE}\")\n"
   ]
  },
  {
   "cell_type": "code",
   "execution_count": 0,
   "metadata": {
    "application/vnd.databricks.v1+cell": {
     "cellMetadata": {
      "byteLimit": 2048000,
      "rowLimit": 10000
     },
     "inputWidgets": {},
     "nuid": "2da60753-f841-412f-ab29-2a735cea710d",
     "showTitle": true,
     "tableResultSettingsMap": {},
     "title": "Generate the JSON File"
    }
   },
   "outputs": [],
   "source": [
    "import json,time,random\n",
    "\n",
    "raw_orders=f\"{RAW_BASE}/orders/\"\n",
    "dbutils.fs.mkdirs(raw_orders)\n",
    "\n",
    "def write_json_orders(path,rows):\n",
    "\n",
    "    body = \"\\n\".join(json.dumps(r) for r in rows)\n",
    "    dbutils.fs.put(path, body, True)\n",
    "\n",
    "\n",
    "\n",
    "\n",
    "\n",
    "# File 1 (2025-09-24)\n",
    "write_json_orders(raw_orders + \"orders_2025-09-24.json\", [\n",
    "  {\"order_id\": 1, \"customer_id\": 101, \"amount\": 500.0,  \"status\": \"Placed\",    \"order_date\": \"2025-09-24\", \"city\": \"Bangalore\"},\n",
    "  {\"order_id\": 2, \"customer_id\": 102, \"amount\": 750.0,  \"status\": \"Placed\",    \"order_date\": \"2025-09-24\", \"city\": \"Delhi\"},\n",
    "  {\"order_id\": 3, \"customer_id\": 103, \"amount\": 1200.0, \"status\": \"Cancelled\", \"order_date\": \"2025-09-24\", \"city\": \"Mumbai\"},\n",
    "  {\"order_id\": 2, \"customer_id\": 102, \"amount\": 750.0,  \"status\": \"Placed\",    \"order_date\": \"2025-09-24\", \"city\": \"Delhi\"} ,\n",
    "  {\"order_id\": 2, \"customer_id\": 102, \"amount\": 750.0,  \"status\": \"Placed\",    \"order_date\": \"2025-09-24\", \"city\": \"Delhi\"},\n",
    "  {\"order_id\": 3, \"customer_id\": 103, \"amount\": 1200.0, \"status\": \"Cancelled\", \"order_date\": \"2025-09-24\", \"city\": \"Mumbai\"},\n",
    "  {\"order_id\": 2, \"customer_id\": 102, \"amount\": 750.0,  \"status\": \"Placed\",    \"order_date\": \"2025-09-24\", \"city\": \"Delhi\"} ,\n",
    "  {\"order_id\": 2, \"customer_id\": 102, \"amount\": 750.0,  \"status\": \"Placed\",    \"order_date\": \"2025-09-24\", \"city\": \"Delhi\"},\n",
    "  {\"order_id\": 3, \"customer_id\": 103, \"amount\": 1200.0, \"status\": \"Cancelled\", \"order_date\": \"2025-09-24\", \"city\": \"Mumbai\"},\n",
    "  {\"order_id\": 2, \"customer_id\": 102, \"amount\": 750.0,  \"status\": \"Placed\",    \"order_date\": \"2025-09-24\", \"city\": \"Delhi\"} \n",
    "])\n",
    "\n",
    "\n",
    "\n"
   ]
  },
  {
   "cell_type": "code",
   "execution_count": 0,
   "metadata": {
    "application/vnd.databricks.v1+cell": {
     "cellMetadata": {
      "byteLimit": 2048000,
      "rowLimit": 10000
     },
     "inputWidgets": {},
     "nuid": "13172dcd-36c3-4280-af1e-2ae999f939b9",
     "showTitle": false,
     "tableResultSettingsMap": {},
     "title": ""
    }
   },
   "outputs": [],
   "source": [
    "# File 2 (2025-09-25)\n",
    "write_json_orders(raw_orders + \"orders_2025-09-25.json\", [\n",
    "  {\"order_id\": 4, \"customer_id\": 104, \"amount\": 900.0,  \"status\": \"Confirmed\", \"order_date\": \"2025-09-25\", \"city\": \"Bangalore\"},\n",
    "  {\"order_id\": 5, \"customer_id\": 105, \"amount\": 0.0,    \"status\": \"Placed\",    \"order_date\": \"2025-09-25\", \"city\": \"Delhi\"}, # bad amount for filter demo\n",
    "  {\"order_id\": 6, \"customer_id\": 106, \"amount\": 600.0,  \"status\": \"Shipped\",   \"order_date\": \"2025-09-25\", \"city\": \"Mumbai\"},\n",
    "  {\"order_id\": 5, \"customer_id\": 105, \"amount\": 0.0,    \"status\": \"Placed\",    \"order_date\": \"2025-09-25\", \"city\": \"Delhi\"}, # bad amount for filter demo\n",
    "  {\"order_id\": 6, \"customer_id\": 106, \"amount\": 600.0,  \"status\": \"Shipped\",   \"order_date\": \"2025-09-25\", \"city\": \"Mumbai\"},\n",
    "  {\"order_id\": 5, \"customer_id\": 105, \"amount\": 0.0,    \"status\": \"Placed\",    \"order_date\": \"2025-09-25\", \"city\": \"Delhi\"}, # bad amount for filter demo\n",
    "  {\"order_id\": 6, \"customer_id\": 106, \"amount\": 600.0,  \"status\": \"Shipped\",   \"order_date\": \"2025-09-25\", \"city\": \"Mumbai\"},\n",
    "  {\"order_id\": 5, \"customer_id\": 105, \"amount\": 0.0,    \"status\": \"Placed\",    \"order_date\": \"2025-09-25\", \"city\": \"Delhi\"}, # bad amount for filter demo\n",
    "  {\"order_id\": 6, \"customer_id\": 106, \"amount\": 600.0,  \"status\": \"Shipped\",   \"order_date\": \"2025-09-25\", \"city\": \"Mumbai\"}\n",
    "])\n"
   ]
  }
 ],
 "metadata": {
  "application/vnd.databricks.v1+notebook": {
   "computePreferences": null,
   "dashboards": [],
   "environmentMetadata": {
    "base_environment": "",
    "environment_version": "3"
   },
   "inputWidgetPreferences": null,
   "language": "python",
   "notebookMetadata": {
    "mostRecentlyExecutedCommandWithImplicitDF": {
     "commandId": 8852062932256748,
     "dataframes": [
      "_sqldf"
     ]
    },
    "pythonIndentUnit": 4
   },
   "notebookName": "UC Catalog Define",
   "widgets": {}
  },
  "language_info": {
   "name": "python"
  }
 },
 "nbformat": 4,
 "nbformat_minor": 0
}
