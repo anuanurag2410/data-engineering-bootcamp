{
 "cells": [
  {
   "cell_type": "code",
   "execution_count": 0,
   "metadata": {
    "application/vnd.databricks.v1+cell": {
     "cellMetadata": {
      "byteLimit": 2048000,
      "rowLimit": 10000
     },
     "inputWidgets": {},
     "nuid": "b893e9b1-8b2d-4d3f-bf41-680ef221fae9",
     "showTitle": false,
     "tableResultSettingsMap": {},
     "title": ""
    }
   },
   "outputs": [],
   "source": [
    "dbutils.widgets.text(\"silver_table\", \"\", \"silver_table\")\n",
    "silver_table = dbutils.widgets.get(\"silver_table\")\n",
    "\n",
    "dbutils.widgets.text(\"gold_table\", \"\", \"gold_table\")\n",
    "gold_table = dbutils.widgets.get(\"gold_table\")"
   ]
  },
  {
   "cell_type": "code",
   "execution_count": 0,
   "metadata": {
    "application/vnd.databricks.v1+cell": {
     "cellMetadata": {
      "byteLimit": 2048000,
      "implicitDf": true,
      "rowLimit": 10000
     },
     "inputWidgets": {},
     "nuid": "237c8e6c-c1cb-4346-a28b-31b321e32018",
     "showTitle": false,
     "tableResultSettingsMap": {},
     "title": ""
    }
   },
   "outputs": [],
   "source": [
    "%sql\n",
    "Create or replace table  ${gold_table} as\n",
    "\n",
    "select city,sum(amount) as total_sales,count(*) as total_orders\n",
    "from ${silver_table}\n",
    "group by city;"
   ]
  },
  {
   "cell_type": "code",
   "execution_count": 0,
   "metadata": {
    "application/vnd.databricks.v1+cell": {
     "cellMetadata": {
      "byteLimit": 2048000,
      "implicitDf": true,
      "rowLimit": 10000
     },
     "inputWidgets": {},
     "nuid": "66778b34-c9bd-44d6-b667-053d7872140c",
     "showTitle": false,
     "tableResultSettingsMap": {},
     "title": ""
    }
   },
   "outputs": [],
   "source": [
    "%sql\n",
    "select * from  ${gold_table}"
   ]
  },
  {
   "cell_type": "code",
   "execution_count": 0,
   "metadata": {
    "application/vnd.databricks.v1+cell": {
     "cellMetadata": {},
     "inputWidgets": {},
     "nuid": "b6f53b1b-10d1-4792-8b71-4432a6f8f32c",
     "showTitle": false,
     "tableResultSettingsMap": {},
     "title": ""
    }
   },
   "outputs": [],
   "source": []
  }
 ],
 "metadata": {
  "application/vnd.databricks.v1+notebook": {
   "computePreferences": null,
   "dashboards": [],
   "environmentMetadata": {
    "base_environment": "",
    "environment_version": "3"
   },
   "inputWidgetPreferences": null,
   "language": "python",
   "notebookMetadata": {
    "mostRecentlyExecutedCommandWithImplicitDF": {
     "commandId": 8852062932256772,
     "dataframes": [
      "_sqldf"
     ]
    },
    "pythonIndentUnit": 4
   },
   "notebookName": "Golden_Ingest",
   "widgets": {
    "silver_table": {
     "currentValue": "datax.workflows.silver_orders",
     "nuid": "ce941efe-f010-4918-8dee-71a35ca0d424",
     "typedWidgetInfo": {
      "autoCreated": false,
      "defaultValue": "datax.workflows.silver_orders",
      "label": "silver_table",
      "name": "silver_table",
      "options": {
       "widgetDisplayType": "Text",
       "validationRegex": null
      },
      "parameterDataType": "String"
     },
     "widgetInfo": {
      "widgetType": "text",
      "defaultValue": "datax.workflows.silver_orders",
      "label": "silver_table",
      "name": "silver_table",
      "options": {
       "widgetType": "text",
       "autoCreated": false,
       "validationRegex": null
      }
     }
    },
    "target_table": {
     "currentValue": "datax.workflows.gold_orders",
     "nuid": "4b34341e-4978-4891-91a2-fee6d6ea1a72",
     "typedWidgetInfo": {
      "autoCreated": false,
      "defaultValue": "datax.workflows.gold_orders",
      "label": "target_table",
      "name": "target_table",
      "options": {
       "widgetDisplayType": "Text",
       "validationRegex": null
      },
      "parameterDataType": "String"
     },
     "widgetInfo": {
      "widgetType": "text",
      "defaultValue": "datax.workflows.gold_orders",
      "label": "target_table",
      "name": "target_table",
      "options": {
       "widgetType": "text",
       "autoCreated": false,
       "validationRegex": null
      }
     }
    }
   }
  },
  "language_info": {
   "name": "python"
  }
 },
 "nbformat": 4,
 "nbformat_minor": 0
}
